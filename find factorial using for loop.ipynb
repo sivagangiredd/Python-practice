{
 "cells": [
  {
   "cell_type": "code",
   "execution_count": 1,
   "id": "1bb87b7d-1fbd-4c63-a45b-352cf8140588",
   "metadata": {},
   "outputs": [
    {
     "name": "stdin",
     "output_type": "stream",
     "text": [
      " 0\n"
     ]
    },
    {
     "name": "stdout",
     "output_type": "stream",
     "text": [
      "1\n"
     ]
    }
   ],
   "source": [
    "n = int(input())\n",
    "fact = 1\n",
    "for i in range(1,n+1):\n",
    "    fact = fact * i\n",
    "print(fact)"
   ]
  },
  {
   "cell_type": "code",
   "execution_count": 3,
   "id": "98d165f7-ae33-4f18-9b7c-5917353da666",
   "metadata": {},
   "outputs": [
    {
     "name": "stdin",
     "output_type": "stream",
     "text": [
      " MCA2024B\n"
     ]
    },
    {
     "name": "stdout",
     "output_type": "stream",
     "text": [
      "Digit: 4\n",
      "Alphabet: 4\n"
     ]
    }
   ],
   "source": [
    "x = input()\n",
    "digit = 0\n",
    "alphabet = 0\n",
    "for i in x:\n",
    "    if i.isdigit():\n",
    "        digit+=1\n",
    "    elif i.isalpha():\n",
    "        alphabet+=1\n",
    "print(\"Digit:\",digit)\n",
    "print(\"Alphabet:\",alphabet)\n",
    "        "
   ]
  },
  {
   "cell_type": "code",
   "execution_count": null,
   "id": "b23ce797-0867-439d-8f80-2fce3e08f309",
   "metadata": {},
   "outputs": [],
   "source": []
  }
 ],
 "metadata": {
  "kernelspec": {
   "display_name": "Python 3 (ipykernel)",
   "language": "python",
   "name": "python3"
  },
  "language_info": {
   "codemirror_mode": {
    "name": "ipython",
    "version": 3
   },
   "file_extension": ".py",
   "mimetype": "text/x-python",
   "name": "python",
   "nbconvert_exporter": "python",
   "pygments_lexer": "ipython3",
   "version": "3.12.4"
  }
 },
 "nbformat": 4,
 "nbformat_minor": 5
}
